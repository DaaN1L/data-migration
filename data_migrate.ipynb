{
 "cells": [
  {
   "cell_type": "code",
   "execution_count": 1,
   "id": "f2c45492",
   "metadata": {
    "ExecuteTime": {
     "end_time": "2023-05-12T08:46:38.579752Z",
     "start_time": "2023-05-12T08:46:38.484205Z"
    }
   },
   "outputs": [
    {
     "name": "stderr",
     "output_type": "stream",
     "text": [
      "Unable to connect ClickHouse Connect C to Numpy API [No module named 'numpy'], falling back to pure Python\n"
     ]
    }
   ],
   "source": [
    "from src.config import settings\n",
    "from src.database_driver import DriverPostgresql\n",
    "from src.database_driver import DriverClickhouse\n",
    "from src.data_migrator import DataMigrator"
   ]
  },
  {
   "cell_type": "code",
   "execution_count": 2,
   "id": "976f200e",
   "metadata": {
    "ExecuteTime": {
     "end_time": "2023-05-12T08:46:39.043065Z",
     "start_time": "2023-05-12T08:46:38.589223Z"
    }
   },
   "outputs": [],
   "source": [
    "pg_driver = DriverPostgresql(\n",
    "    host=settings.source_host,\n",
    "    port=settings.source_port,\n",
    "    username=settings.source_username,\n",
    "    password=settings.source_password,\n",
    "    database=settings.source_database\n",
    ")\n",
    "click_driver = DriverClickhouse(\n",
    "    host=settings.target_host,\n",
    "    port=settings.target_port,\n",
    "    username=settings.target_username,\n",
    "    password=settings.target_password,\n",
    "    database=settings.target_database\n",
    ")"
   ]
  },
  {
   "cell_type": "code",
   "execution_count": 3,
   "id": "eb887d75",
   "metadata": {
    "ExecuteTime": {
     "end_time": "2023-05-12T08:46:39.053499Z",
     "start_time": "2023-05-12T08:46:39.047799Z"
    }
   },
   "outputs": [],
   "source": [
    "migrator = DataMigrator()"
   ]
  },
  {
   "cell_type": "code",
   "execution_count": 4,
   "id": "139e72f6",
   "metadata": {
    "ExecuteTime": {
     "end_time": "2023-05-12T08:46:50.160161Z",
     "start_time": "2023-05-12T08:46:39.056267Z"
    }
   },
   "outputs": [],
   "source": [
    "migrator.migrate(\n",
    "    source_db=pg_driver,\n",
    "    source_schema=\"public\",\n",
    "    source_table=\"ontime\",\n",
    "    target_db=click_driver,\n",
    "    target_schema=\"maindb\",\n",
    "    target_table=\"dd_ontime_migrated\",\n",
    "    increment_key=\"Distance\",\n",
    "    load_from=616,\n",
    "    load_to=617,\n",
    "\n",
    ")"
   ]
  },
  {
   "cell_type": "code",
   "execution_count": null,
   "id": "2f234cc7",
   "metadata": {},
   "outputs": [],
   "source": []
  },
  {
   "cell_type": "code",
   "execution_count": null,
   "id": "27594206",
   "metadata": {},
   "outputs": [],
   "source": []
  },
  {
   "cell_type": "code",
   "execution_count": null,
   "id": "0d3d72fe",
   "metadata": {},
   "outputs": [],
   "source": []
  },
  {
   "cell_type": "code",
   "execution_count": null,
   "id": "25ee496f",
   "metadata": {},
   "outputs": [],
   "source": []
  }
 ],
 "metadata": {
  "kernelspec": {
   "display_name": "Python 3 (ipykernel)",
   "language": "python",
   "name": "python3"
  },
  "language_info": {
   "codemirror_mode": {
    "name": "ipython",
    "version": 3
   },
   "file_extension": ".py",
   "mimetype": "text/x-python",
   "name": "python",
   "nbconvert_exporter": "python",
   "pygments_lexer": "ipython3",
   "version": "3.10.11"
  }
 },
 "nbformat": 4,
 "nbformat_minor": 5
}
