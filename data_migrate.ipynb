{
 "cells": [
  {
   "cell_type": "code",
   "execution_count": 1,
   "id": "f2c45492",
   "metadata": {
    "ExecuteTime": {
     "end_time": "2023-05-26T22:59:27.659602Z",
     "start_time": "2023-05-26T22:59:27.593138Z"
    }
   },
   "outputs": [
    {
     "name": "stderr",
     "output_type": "stream",
     "text": [
      "Unable to connect ClickHouse Connect C to Numpy API [No module named 'numpy'], falling back to pure Python\n"
     ]
    }
   ],
   "source": [
    "from src.config import settings\n",
    "from src.database_driver import DriverPostgresql\n",
    "from src.database_driver import DriverClickhouse\n",
    "from src.data_migrator import DataMigrator"
   ]
  },
  {
   "cell_type": "code",
   "execution_count": 2,
   "id": "183e6803",
   "metadata": {
    "ExecuteTime": {
     "end_time": "2023-05-26T22:59:27.900016Z",
     "start_time": "2023-05-26T22:59:27.656484Z"
    }
   },
   "outputs": [],
   "source": [
    "pg_driver = DriverPostgresql(\n",
    "    host=settings.source_host,\n",
    "    port=settings.source_port,\n",
    "    username=settings.source_username,\n",
    "    password=settings.source_password,\n",
    "    database=settings.source_database\n",
    ")"
   ]
  },
  {
   "cell_type": "code",
   "execution_count": 3,
   "outputs": [],
   "source": [
    "click_driver = DriverClickhouse(\n",
    "    host=settings.target_host,\n",
    "    port=settings.target_port,\n",
    "    username=settings.target_username,\n",
    "    password=settings.target_password,\n",
    "    database=settings.target_database\n",
    ")\n"
   ],
   "metadata": {
    "collapsed": false,
    "ExecuteTime": {
     "end_time": "2023-05-26T22:59:28.078269Z",
     "start_time": "2023-05-26T22:59:27.901467Z"
    }
   }
  },
  {
   "cell_type": "code",
   "execution_count": 4,
   "id": "91b0127b",
   "metadata": {
    "ExecuteTime": {
     "end_time": "2023-05-26T22:59:28.081358Z",
     "start_time": "2023-05-26T22:59:28.079473Z"
    }
   },
   "outputs": [],
   "source": [
    "migrator = DataMigrator()"
   ]
  },
  {
   "cell_type": "code",
   "execution_count": 5,
   "id": "af540f71",
   "metadata": {
    "ExecuteTime": {
     "end_time": "2023-05-26T22:59:28.438050Z",
     "start_time": "2023-05-26T22:59:28.082439Z"
    }
   },
   "outputs": [
    {
     "name": "stderr",
     "output_type": "stream",
     "text": [
      "Code: 456. DB::Exception: Query parameter `q` was not set: default expression and column type are incompatible. (UNKNOWN_QUERY_PARAMETER) (version 22.1.3.7 (official build))\n",
      "\n"
     ]
    },
    {
     "name": "stdout",
     "output_type": "stream",
     "text": [
      "\n",
      "            CREATE TABLE IF NOT EXISTS {schema:Identifier}.{table:Identifier}\n",
      "            (\n",
      "            Year String DEFAULT {q:String}\n",
      "            )\n",
      "            ENGINE = MergeTree\n",
      "            ORDER BY {index:Identifier}\n",
      "        \n"
     ]
    },
    {
     "ename": "DatabaseError",
     "evalue": ":HTTPDriver for http://db.mpkazantsev.ru:8123 returned response code 500)\n Code: 456. DB::Exception: Query parameter `q` was not set: default expression and column type are incompatible. (UNKNOWN_QUERY_PARAMETER) (version 22.1.3.7 (official build))\n",
     "output_type": "error",
     "traceback": [
      "\u001B[0;31m---------------------------------------------------------------------------\u001B[0m",
      "\u001B[0;31mDatabaseError\u001B[0m                             Traceback (most recent call last)",
      "Cell \u001B[0;32mIn[5], line 1\u001B[0m\n\u001B[0;32m----> 1\u001B[0m \u001B[43mmigrator\u001B[49m\u001B[38;5;241;43m.\u001B[39;49m\u001B[43mmigrate\u001B[49m\u001B[43m(\u001B[49m\n\u001B[1;32m      2\u001B[0m \u001B[43m    \u001B[49m\u001B[43msource_db\u001B[49m\u001B[38;5;241;43m=\u001B[39;49m\u001B[43mpg_driver\u001B[49m\u001B[43m,\u001B[49m\n\u001B[1;32m      3\u001B[0m \u001B[43m    \u001B[49m\u001B[43msource_schema\u001B[49m\u001B[38;5;241;43m=\u001B[39;49m\u001B[38;5;124;43m\"\u001B[39;49m\u001B[38;5;124;43mpublic\u001B[39;49m\u001B[38;5;124;43m\"\u001B[39;49m\u001B[43m,\u001B[49m\n\u001B[1;32m      4\u001B[0m \u001B[43m    \u001B[49m\u001B[43msource_table\u001B[49m\u001B[38;5;241;43m=\u001B[39;49m\u001B[38;5;124;43m\"\u001B[39;49m\u001B[38;5;124;43montime\u001B[39;49m\u001B[38;5;124;43m\"\u001B[39;49m\u001B[43m,\u001B[49m\n\u001B[1;32m      5\u001B[0m \u001B[43m    \u001B[49m\u001B[43mtarget_db\u001B[49m\u001B[38;5;241;43m=\u001B[39;49m\u001B[43mclick_driver\u001B[49m\u001B[43m,\u001B[49m\n\u001B[1;32m      6\u001B[0m \u001B[43m    \u001B[49m\u001B[43mtarget_schema\u001B[49m\u001B[38;5;241;43m=\u001B[39;49m\u001B[38;5;124;43m\"\u001B[39;49m\u001B[38;5;124;43mmaindb\u001B[39;49m\u001B[38;5;124;43m\"\u001B[39;49m\u001B[43m,\u001B[49m\n\u001B[1;32m      7\u001B[0m \u001B[43m    \u001B[49m\u001B[43mtarget_table\u001B[49m\u001B[38;5;241;43m=\u001B[39;49m\u001B[38;5;124;43m\"\u001B[39;49m\u001B[38;5;124;43mtmp_table\u001B[39;49m\u001B[38;5;124;43m\"\u001B[39;49m\u001B[43m,\u001B[49m\n\u001B[1;32m      8\u001B[0m \u001B[43m    \u001B[49m\u001B[43mtarget_pkey\u001B[49m\u001B[38;5;241;43m=\u001B[39;49m\u001B[38;5;124;43m\"\u001B[39;49m\u001B[38;5;124;43mYearghb\u001B[39;49m\u001B[38;5;124;43m\"\u001B[39;49m\u001B[43m,\u001B[49m\n\u001B[1;32m      9\u001B[0m \u001B[43m    \u001B[49m\u001B[43mincrement_key\u001B[49m\u001B[38;5;241;43m=\u001B[39;49m\u001B[38;5;124;43m\"\u001B[39;49m\u001B[38;5;124;43mFlightDate\u001B[39;49m\u001B[38;5;124;43m\"\u001B[39;49m\u001B[43m,\u001B[49m\n\u001B[1;32m     10\u001B[0m \u001B[43m    \u001B[49m\u001B[43mload_from\u001B[49m\u001B[38;5;241;43m=\u001B[39;49m\u001B[38;5;124;43m\"\u001B[39;49m\u001B[38;5;124;43m2017.05.01\u001B[39;49m\u001B[38;5;124;43m\"\u001B[39;49m\u001B[43m,\u001B[49m\n\u001B[1;32m     11\u001B[0m \u001B[43m    \u001B[49m\u001B[43mload_to\u001B[49m\u001B[38;5;241;43m=\u001B[39;49m\u001B[38;5;124;43m\"\u001B[39;49m\u001B[38;5;124;43m2017.06.01\u001B[39;49m\u001B[38;5;124;43m\"\u001B[39;49m\u001B[43m,\u001B[49m\n\u001B[1;32m     12\u001B[0m \u001B[43m)\u001B[49m\n",
      "File \u001B[0;32m~/PycharmProjects/data-migration/src/data_migrator/data_migrator.py:57\u001B[0m, in \u001B[0;36mDataMigrator.migrate\u001B[0;34m(self, source_db, source_schema, source_table, target_db, target_schema, target_table, target_pkey, increment_key, load_from, load_to, include_columns, exclude_columns)\u001B[0m\n\u001B[1;32m     50\u001B[0m columns_description \u001B[38;5;241m=\u001B[39m \u001B[38;5;28mself\u001B[39m\u001B[38;5;241m.\u001B[39msource_db\u001B[38;5;241m.\u001B[39mget_columns_info(\n\u001B[1;32m     51\u001B[0m     table\u001B[38;5;241m=\u001B[39msource_table,\n\u001B[1;32m     52\u001B[0m     schema\u001B[38;5;241m=\u001B[39msource_schema,\n\u001B[1;32m     53\u001B[0m     include\u001B[38;5;241m=\u001B[39minclude_columns,\n\u001B[1;32m     54\u001B[0m     exclude\u001B[38;5;241m=\u001B[39mexclude_columns\n\u001B[1;32m     55\u001B[0m )\n\u001B[1;32m     56\u001B[0m mapped_column_description \u001B[38;5;241m=\u001B[39m \u001B[38;5;28mself\u001B[39m\u001B[38;5;241m.\u001B[39m_map_types(columns_description)\n\u001B[0;32m---> 57\u001B[0m \u001B[38;5;28;43mself\u001B[39;49m\u001B[38;5;241;43m.\u001B[39;49m\u001B[43mtarget_db\u001B[49m\u001B[38;5;241;43m.\u001B[39;49m\u001B[43mcreate_table\u001B[49m\u001B[43m(\u001B[49m\n\u001B[1;32m     58\u001B[0m \u001B[43m    \u001B[49m\u001B[43mtable\u001B[49m\u001B[38;5;241;43m=\u001B[39;49m\u001B[43mtarget_table\u001B[49m\u001B[43m,\u001B[49m\n\u001B[1;32m     59\u001B[0m \u001B[43m    \u001B[49m\u001B[43mschema\u001B[49m\u001B[38;5;241;43m=\u001B[39;49m\u001B[43mtarget_schema\u001B[49m\u001B[43m,\u001B[49m\n\u001B[1;32m     60\u001B[0m \u001B[43m    \u001B[49m\u001B[43mcolumns_description\u001B[49m\u001B[38;5;241;43m=\u001B[39;49m\u001B[43mmapped_column_description\u001B[49m\u001B[43m,\u001B[49m\n\u001B[1;32m     61\u001B[0m \u001B[43m    \u001B[49m\u001B[43mpkey\u001B[49m\u001B[38;5;241;43m=\u001B[39;49m\u001B[43mtarget_pkey\u001B[49m\u001B[43m,\u001B[49m\n\u001B[1;32m     62\u001B[0m \u001B[43m\u001B[49m\u001B[43m)\u001B[49m\n",
      "File \u001B[0;32m~/PycharmProjects/data-migration/src/database_driver/clickhouse/driver_clickhouse.py:99\u001B[0m, in \u001B[0;36mDriverClickhouse.create_table\u001B[0;34m(self, table, columns_description, pkey, schema)\u001B[0m\n\u001B[1;32m     90\u001B[0m query \u001B[38;5;241m=\u001B[39m \u001B[38;5;124mf\u001B[39m\u001B[38;5;124m\"\"\"\u001B[39m\n\u001B[1;32m     91\u001B[0m \u001B[38;5;124m    CREATE TABLE IF NOT EXISTS \u001B[39m\u001B[38;5;130;01m{{\u001B[39;00m\u001B[38;5;124mschema:Identifier\u001B[39m\u001B[38;5;130;01m}}\u001B[39;00m\u001B[38;5;124m.\u001B[39m\u001B[38;5;130;01m{{\u001B[39;00m\u001B[38;5;124mtable:Identifier\u001B[39m\u001B[38;5;130;01m}}\u001B[39;00m\n\u001B[1;32m     92\u001B[0m \u001B[38;5;124m    (\u001B[39m\n\u001B[0;32m   (...)\u001B[0m\n\u001B[1;32m     96\u001B[0m \u001B[38;5;124m    ORDER BY \u001B[39m\u001B[38;5;130;01m{{\u001B[39;00m\u001B[38;5;124mindex:Identifier\u001B[39m\u001B[38;5;130;01m}}\u001B[39;00m\n\u001B[1;32m     97\u001B[0m \u001B[38;5;124m\u001B[39m\u001B[38;5;124m\"\"\"\u001B[39m\n\u001B[1;32m     98\u001B[0m \u001B[38;5;28mprint\u001B[39m(query)\n\u001B[0;32m---> 99\u001B[0m \u001B[38;5;28;43mself\u001B[39;49m\u001B[38;5;241;43m.\u001B[39;49m\u001B[43mconn\u001B[49m\u001B[38;5;241;43m.\u001B[39;49m\u001B[43mcommand\u001B[49m\u001B[43m(\u001B[49m\n\u001B[1;32m    100\u001B[0m \u001B[43m    \u001B[49m\u001B[43mquery\u001B[49m\u001B[43m,\u001B[49m\n\u001B[1;32m    101\u001B[0m \u001B[43m    \u001B[49m\u001B[43mparameters\u001B[49m\u001B[38;5;241;43m=\u001B[39;49m\u001B[43m{\u001B[49m\u001B[38;5;124;43m\"\u001B[39;49m\u001B[38;5;124;43mschema\u001B[39;49m\u001B[38;5;124;43m\"\u001B[39;49m\u001B[43m:\u001B[49m\u001B[43m \u001B[49m\u001B[43mschema\u001B[49m\u001B[43m,\u001B[49m\u001B[43m \u001B[49m\u001B[38;5;124;43m\"\u001B[39;49m\u001B[38;5;124;43mq\u001B[39;49m\u001B[38;5;124;43m\"\u001B[39;49m\u001B[43m:\u001B[49m\u001B[43m \u001B[49m\u001B[38;5;124;43m\"\u001B[39;49m\u001B[38;5;124;43msome_value\u001B[39;49m\u001B[38;5;124;43m\"\u001B[39;49m\u001B[43m,\u001B[49m\u001B[43m \u001B[49m\u001B[38;5;124;43m\"\u001B[39;49m\u001B[38;5;124;43mtable\u001B[39;49m\u001B[38;5;124;43m\"\u001B[39;49m\u001B[43m:\u001B[49m\u001B[43m \u001B[49m\u001B[43mtable\u001B[49m\u001B[43m,\u001B[49m\u001B[43m \u001B[49m\u001B[38;5;124;43m\"\u001B[39;49m\u001B[38;5;124;43mindex\u001B[39;49m\u001B[38;5;124;43m\"\u001B[39;49m\u001B[43m:\u001B[49m\u001B[43m \u001B[49m\u001B[43mpkey\u001B[49m\u001B[43m,\u001B[49m\u001B[43m \u001B[49m\u001B[38;5;241;43m*\u001B[39;49m\u001B[38;5;241;43m*\u001B[39;49m\u001B[43mnames\u001B[49m\u001B[43m,\u001B[49m\u001B[43m \u001B[49m\u001B[38;5;241;43m*\u001B[39;49m\u001B[38;5;241;43m*\u001B[39;49m\u001B[43mdefaults\u001B[49m\u001B[43m,\u001B[49m\u001B[43m}\u001B[49m\n\u001B[1;32m    102\u001B[0m \u001B[43m\u001B[49m\u001B[43m)\u001B[49m\n\u001B[1;32m    103\u001B[0m \u001B[38;5;28mself\u001B[39m\u001B[38;5;241m.\u001B[39mconn\u001B[38;5;241m.\u001B[39mcommand(\u001B[38;5;124m\"\u001B[39m\u001B[38;5;124mSHOW CREATE TABLE \u001B[39m\u001B[38;5;124m{\u001B[39m\u001B[38;5;124mschema:Identifier}.\u001B[39m\u001B[38;5;124m{\u001B[39m\u001B[38;5;124mtable:Identifier}\u001B[39m\u001B[38;5;124m\"\u001B[39m, parameters\u001B[38;5;241m=\u001B[39m{\u001B[38;5;124m\"\u001B[39m\u001B[38;5;124mschema\u001B[39m\u001B[38;5;124m\"\u001B[39m: schema, \u001B[38;5;124m\"\u001B[39m\u001B[38;5;124mtable\u001B[39m\u001B[38;5;124m\"\u001B[39m: table})\n",
      "File \u001B[0;32m~/PycharmProjects/data-migration/.venv/lib/python3.10/site-packages/clickhouse_connect/driver/httpclient.py:308\u001B[0m, in \u001B[0;36mHttpClient.command\u001B[0;34m(self, cmd, parameters, data, settings, use_database)\u001B[0m\n\u001B[1;32m    306\u001B[0m params\u001B[38;5;241m.\u001B[39mupdate(\u001B[38;5;28mself\u001B[39m\u001B[38;5;241m.\u001B[39m_validate_settings(settings \u001B[38;5;129;01mor\u001B[39;00m {}))\n\u001B[1;32m    307\u001B[0m method \u001B[38;5;241m=\u001B[39m \u001B[38;5;124m'\u001B[39m\u001B[38;5;124mPOST\u001B[39m\u001B[38;5;124m'\u001B[39m \u001B[38;5;28;01mif\u001B[39;00m payload \u001B[38;5;28;01melse\u001B[39;00m \u001B[38;5;124m'\u001B[39m\u001B[38;5;124mGET\u001B[39m\u001B[38;5;124m'\u001B[39m\n\u001B[0;32m--> 308\u001B[0m response \u001B[38;5;241m=\u001B[39m \u001B[38;5;28;43mself\u001B[39;49m\u001B[38;5;241;43m.\u001B[39;49m\u001B[43m_raw_request\u001B[49m\u001B[43m(\u001B[49m\u001B[43mpayload\u001B[49m\u001B[43m,\u001B[49m\u001B[43m \u001B[49m\u001B[43mparams\u001B[49m\u001B[43m,\u001B[49m\u001B[43m \u001B[49m\u001B[43mheaders\u001B[49m\u001B[43m,\u001B[49m\u001B[43m \u001B[49m\u001B[43mmethod\u001B[49m\u001B[43m)\u001B[49m\n\u001B[1;32m    309\u001B[0m result \u001B[38;5;241m=\u001B[39m response\u001B[38;5;241m.\u001B[39mdata\u001B[38;5;241m.\u001B[39mdecode()[:\u001B[38;5;241m-\u001B[39m\u001B[38;5;241m1\u001B[39m]\u001B[38;5;241m.\u001B[39msplit(\u001B[38;5;124m'\u001B[39m\u001B[38;5;130;01m\\t\u001B[39;00m\u001B[38;5;124m'\u001B[39m)\n\u001B[1;32m    310\u001B[0m \u001B[38;5;28;01mif\u001B[39;00m \u001B[38;5;28mlen\u001B[39m(result) \u001B[38;5;241m==\u001B[39m \u001B[38;5;241m1\u001B[39m:\n",
      "File \u001B[0;32m~/PycharmProjects/data-migration/.venv/lib/python3.10/site-packages/clickhouse_connect/driver/httpclient.py:399\u001B[0m, in \u001B[0;36mHttpClient._raw_request\u001B[0;34m(self, data, params, headers, method, retries, stream, server_wait, fields, error_handler)\u001B[0m\n\u001B[1;32m    397\u001B[0m \u001B[38;5;28;01mif\u001B[39;00m error_handler:\n\u001B[1;32m    398\u001B[0m     error_handler(response)\n\u001B[0;32m--> 399\u001B[0m \u001B[38;5;28;43mself\u001B[39;49m\u001B[38;5;241;43m.\u001B[39;49m\u001B[43m_error_handler\u001B[49m\u001B[43m(\u001B[49m\u001B[43mresponse\u001B[49m\u001B[43m)\u001B[49m\n",
      "File \u001B[0;32m~/PycharmProjects/data-migration/.venv/lib/python3.10/site-packages/clickhouse_connect/driver/httpclient.py:324\u001B[0m, in \u001B[0;36mHttpClient._error_handler\u001B[0;34m(self, response, retried)\u001B[0m\n\u001B[1;32m    322\u001B[0m     logger\u001B[38;5;241m.\u001B[39merror(err_msg)\n\u001B[1;32m    323\u001B[0m     err_str \u001B[38;5;241m=\u001B[39m \u001B[38;5;124mf\u001B[39m\u001B[38;5;124m'\u001B[39m\u001B[38;5;124m:\u001B[39m\u001B[38;5;132;01m{\u001B[39;00merr_str\u001B[38;5;132;01m}\u001B[39;00m\u001B[38;5;130;01m\\n\u001B[39;00m\u001B[38;5;124m \u001B[39m\u001B[38;5;132;01m{\u001B[39;00merr_msg[\u001B[38;5;241m0\u001B[39m:\u001B[38;5;241m240\u001B[39m]\u001B[38;5;132;01m}\u001B[39;00m\u001B[38;5;124m'\u001B[39m\n\u001B[0;32m--> 324\u001B[0m \u001B[38;5;28;01mraise\u001B[39;00m OperationalError(err_str) \u001B[38;5;28;01mif\u001B[39;00m retried \u001B[38;5;28;01melse\u001B[39;00m DatabaseError(err_str) \u001B[38;5;28;01mfrom\u001B[39;00m \u001B[38;5;28;01mNone\u001B[39;00m\n",
      "\u001B[0;31mDatabaseError\u001B[0m: :HTTPDriver for http://db.mpkazantsev.ru:8123 returned response code 500)\n Code: 456. DB::Exception: Query parameter `q` was not set: default expression and column type are incompatible. (UNKNOWN_QUERY_PARAMETER) (version 22.1.3.7 (official build))\n"
     ]
    }
   ],
   "source": [
    "migrator.migrate(\n",
    "    source_db=pg_driver,\n",
    "    source_schema=\"public\",\n",
    "    source_table=\"ontime\",\n",
    "    target_db=click_driver,\n",
    "    target_schema=\"maindb\",\n",
    "    target_table=\"tmp_table\",\n",
    "    target_pkey=\"Yearghb\",\n",
    "    increment_key=\"FlightDate\",\n",
    "    load_from=\"2017.05.01\",\n",
    "    load_to=\"2017.06.01\",\n",
    ")"
   ]
  },
  {
   "cell_type": "code",
   "execution_count": null,
   "outputs": [],
   "source": [],
   "metadata": {
    "collapsed": false
   }
  },
  {
   "cell_type": "code",
   "execution_count": 50,
   "outputs": [
    {
     "name": "stderr",
     "output_type": "stream",
     "text": [
      "Code: 62. DB::Exception: Syntax error: failed at position 131 ('NULL') (line 4, col 40): NULL\n",
      "           )\n",
      "           ENGINE = MergeTree\n",
      "           ORDER BY {index:Identifier}\n",
      "       . Expected one of: BETWEEN, LIKE, ILIKE, IN. (SYNTAX_ERROR) (version 22.1.3.7 (official build))\n",
      "\n"
     ]
    },
    {
     "name": "stdout",
     "output_type": "stream",
     "text": [
      "\n",
      "           CREATE TABLE IF NOT EXISTS {schema:Identifier}.{table:Identifier}\n",
      "           (\n",
      "           Year DEFAULT {d:String} NOT NULL\n",
      "           )\n",
      "           ENGINE = MergeTree\n",
      "           ORDER BY {index:Identifier}\n",
      "       \n"
     ]
    },
    {
     "ename": "DatabaseError",
     "evalue": ":HTTPDriver for http://db.mpkazantsev.ru:8123 returned response code 400)\n Code: 62. DB::Exception: Syntax error: failed at position 131 ('NULL') (line 4, col 40): NULL\n           )\n           ENGINE = MergeTree\n           ORDER BY {index:Identifier}\n       . Expected one of: BETWEEN, LIKE, ILIKE, IN. (SYNTAX_ERRO",
     "output_type": "error",
     "traceback": [
      "\u001B[0;31m---------------------------------------------------------------------------\u001B[0m",
      "\u001B[0;31mDatabaseError\u001B[0m                             Traceback (most recent call last)",
      "Cell \u001B[0;32mIn[50], line 10\u001B[0m\n\u001B[1;32m      1\u001B[0m query \u001B[38;5;241m=\u001B[39m \u001B[38;5;124mf\u001B[39m\u001B[38;5;124m\"\"\"\u001B[39m\n\u001B[1;32m      2\u001B[0m \u001B[38;5;124m           CREATE TABLE IF NOT EXISTS \u001B[39m\u001B[38;5;130;01m{{\u001B[39;00m\u001B[38;5;124mschema:Identifier\u001B[39m\u001B[38;5;130;01m}}\u001B[39;00m\u001B[38;5;124m.\u001B[39m\u001B[38;5;130;01m{{\u001B[39;00m\u001B[38;5;124mtable:Identifier\u001B[39m\u001B[38;5;130;01m}}\u001B[39;00m\n\u001B[1;32m      3\u001B[0m \u001B[38;5;124m           (\u001B[39m\n\u001B[0;32m   (...)\u001B[0m\n\u001B[1;32m      7\u001B[0m \u001B[38;5;124m           ORDER BY \u001B[39m\u001B[38;5;130;01m{{\u001B[39;00m\u001B[38;5;124mindex:Identifier\u001B[39m\u001B[38;5;130;01m}}\u001B[39;00m\n\u001B[1;32m      8\u001B[0m \u001B[38;5;124m       \u001B[39m\u001B[38;5;124m\"\"\"\u001B[39m\n\u001B[1;32m      9\u001B[0m \u001B[38;5;28mprint\u001B[39m(query)\n\u001B[0;32m---> 10\u001B[0m \u001B[43mclick_driver\u001B[49m\u001B[38;5;241;43m.\u001B[39;49m\u001B[43mconn\u001B[49m\u001B[38;5;241;43m.\u001B[39;49m\u001B[43mcommand\u001B[49m\u001B[43m(\u001B[49m\n\u001B[1;32m     11\u001B[0m \u001B[43m   \u001B[49m\u001B[43mquery\u001B[49m\u001B[43m,\u001B[49m\n\u001B[1;32m     12\u001B[0m \u001B[43m   \u001B[49m\u001B[43mparameters\u001B[49m\u001B[38;5;241;43m=\u001B[39;49m\u001B[43m{\u001B[49m\u001B[38;5;124;43m\"\u001B[39;49m\u001B[38;5;124;43md\u001B[39;49m\u001B[38;5;124;43m\"\u001B[39;49m\u001B[43m:\u001B[49m\u001B[43m \u001B[49m\u001B[38;5;124;43m\"\u001B[39;49m\u001B[38;5;124;43ms\u001B[39;49m\u001B[38;5;124;43m\"\u001B[39;49m\u001B[43m,\u001B[49m\u001B[43m \u001B[49m\u001B[38;5;124;43m\"\u001B[39;49m\u001B[38;5;124;43mschema\u001B[39;49m\u001B[38;5;124;43m\"\u001B[39;49m\u001B[43m:\u001B[49m\u001B[43m \u001B[49m\u001B[38;5;124;43m\"\u001B[39;49m\u001B[38;5;124;43mmaindb\u001B[39;49m\u001B[38;5;124;43m\"\u001B[39;49m\u001B[43m,\u001B[49m\u001B[43m \u001B[49m\u001B[38;5;124;43m\"\u001B[39;49m\u001B[38;5;124;43mtable\u001B[39;49m\u001B[38;5;124;43m\"\u001B[39;49m\u001B[43m:\u001B[49m\u001B[43m \u001B[49m\u001B[38;5;124;43m\"\u001B[39;49m\u001B[38;5;124;43mtmp\u001B[39;49m\u001B[38;5;124;43m\"\u001B[39;49m\u001B[43m,\u001B[49m\u001B[43m \u001B[49m\u001B[38;5;124;43m\"\u001B[39;49m\u001B[38;5;124;43mindex\u001B[39;49m\u001B[38;5;124;43m\"\u001B[39;49m\u001B[43m:\u001B[49m\u001B[43m \u001B[49m\u001B[38;5;124;43m\"\u001B[39;49m\u001B[38;5;124;43mYear\u001B[39;49m\u001B[38;5;124;43m\"\u001B[39;49m\u001B[43m}\u001B[49m\n\u001B[1;32m     13\u001B[0m \u001B[43m)\u001B[49m\n",
      "File \u001B[0;32m~/PycharmProjects/data-migration/.venv/lib/python3.10/site-packages/clickhouse_connect/driver/httpclient.py:308\u001B[0m, in \u001B[0;36mHttpClient.command\u001B[0;34m(self, cmd, parameters, data, settings, use_database)\u001B[0m\n\u001B[1;32m    306\u001B[0m params\u001B[38;5;241m.\u001B[39mupdate(\u001B[38;5;28mself\u001B[39m\u001B[38;5;241m.\u001B[39m_validate_settings(settings \u001B[38;5;129;01mor\u001B[39;00m {}))\n\u001B[1;32m    307\u001B[0m method \u001B[38;5;241m=\u001B[39m \u001B[38;5;124m'\u001B[39m\u001B[38;5;124mPOST\u001B[39m\u001B[38;5;124m'\u001B[39m \u001B[38;5;28;01mif\u001B[39;00m payload \u001B[38;5;28;01melse\u001B[39;00m \u001B[38;5;124m'\u001B[39m\u001B[38;5;124mGET\u001B[39m\u001B[38;5;124m'\u001B[39m\n\u001B[0;32m--> 308\u001B[0m response \u001B[38;5;241m=\u001B[39m \u001B[38;5;28;43mself\u001B[39;49m\u001B[38;5;241;43m.\u001B[39;49m\u001B[43m_raw_request\u001B[49m\u001B[43m(\u001B[49m\u001B[43mpayload\u001B[49m\u001B[43m,\u001B[49m\u001B[43m \u001B[49m\u001B[43mparams\u001B[49m\u001B[43m,\u001B[49m\u001B[43m \u001B[49m\u001B[43mheaders\u001B[49m\u001B[43m,\u001B[49m\u001B[43m \u001B[49m\u001B[43mmethod\u001B[49m\u001B[43m)\u001B[49m\n\u001B[1;32m    309\u001B[0m result \u001B[38;5;241m=\u001B[39m response\u001B[38;5;241m.\u001B[39mdata\u001B[38;5;241m.\u001B[39mdecode()[:\u001B[38;5;241m-\u001B[39m\u001B[38;5;241m1\u001B[39m]\u001B[38;5;241m.\u001B[39msplit(\u001B[38;5;124m'\u001B[39m\u001B[38;5;130;01m\\t\u001B[39;00m\u001B[38;5;124m'\u001B[39m)\n\u001B[1;32m    310\u001B[0m \u001B[38;5;28;01mif\u001B[39;00m \u001B[38;5;28mlen\u001B[39m(result) \u001B[38;5;241m==\u001B[39m \u001B[38;5;241m1\u001B[39m:\n",
      "File \u001B[0;32m~/PycharmProjects/data-migration/.venv/lib/python3.10/site-packages/clickhouse_connect/driver/httpclient.py:399\u001B[0m, in \u001B[0;36mHttpClient._raw_request\u001B[0;34m(self, data, params, headers, method, retries, stream, server_wait, fields, error_handler)\u001B[0m\n\u001B[1;32m    397\u001B[0m \u001B[38;5;28;01mif\u001B[39;00m error_handler:\n\u001B[1;32m    398\u001B[0m     error_handler(response)\n\u001B[0;32m--> 399\u001B[0m \u001B[38;5;28;43mself\u001B[39;49m\u001B[38;5;241;43m.\u001B[39;49m\u001B[43m_error_handler\u001B[49m\u001B[43m(\u001B[49m\u001B[43mresponse\u001B[49m\u001B[43m)\u001B[49m\n",
      "File \u001B[0;32m~/PycharmProjects/data-migration/.venv/lib/python3.10/site-packages/clickhouse_connect/driver/httpclient.py:324\u001B[0m, in \u001B[0;36mHttpClient._error_handler\u001B[0;34m(self, response, retried)\u001B[0m\n\u001B[1;32m    322\u001B[0m     logger\u001B[38;5;241m.\u001B[39merror(err_msg)\n\u001B[1;32m    323\u001B[0m     err_str \u001B[38;5;241m=\u001B[39m \u001B[38;5;124mf\u001B[39m\u001B[38;5;124m'\u001B[39m\u001B[38;5;124m:\u001B[39m\u001B[38;5;132;01m{\u001B[39;00merr_str\u001B[38;5;132;01m}\u001B[39;00m\u001B[38;5;130;01m\\n\u001B[39;00m\u001B[38;5;124m \u001B[39m\u001B[38;5;132;01m{\u001B[39;00merr_msg[\u001B[38;5;241m0\u001B[39m:\u001B[38;5;241m240\u001B[39m]\u001B[38;5;132;01m}\u001B[39;00m\u001B[38;5;124m'\u001B[39m\n\u001B[0;32m--> 324\u001B[0m \u001B[38;5;28;01mraise\u001B[39;00m OperationalError(err_str) \u001B[38;5;28;01mif\u001B[39;00m retried \u001B[38;5;28;01melse\u001B[39;00m DatabaseError(err_str) \u001B[38;5;28;01mfrom\u001B[39;00m \u001B[38;5;28;01mNone\u001B[39;00m\n",
      "\u001B[0;31mDatabaseError\u001B[0m: :HTTPDriver for http://db.mpkazantsev.ru:8123 returned response code 400)\n Code: 62. DB::Exception: Syntax error: failed at position 131 ('NULL') (line 4, col 40): NULL\n           )\n           ENGINE = MergeTree\n           ORDER BY {index:Identifier}\n       . Expected one of: BETWEEN, LIKE, ILIKE, IN. (SYNTAX_ERRO"
     ]
    }
   ],
   "source": [
    " query = f\"\"\"\n",
    "            CREATE TABLE IF NOT EXISTS {{schema:Identifier}}.{{table:Identifier}}\n",
    "            (\n",
    "            Year String DEFAULT {{d:String}} NOT NULL\n",
    "            )\n",
    "            ENGINE = MergeTree\n",
    "            ORDER BY {{index:Identifier}}\n",
    "        \"\"\"\n",
    "print(query)\n",
    "click_driver.conn.command(\n",
    "    query,\n",
    "    parameters={\"d\": \"s\", \"schema\": \"maindb\", \"table\": \"tmp\", \"index\": \"Year\"}\n",
    ")"
   ],
   "metadata": {
    "collapsed": false,
    "ExecuteTime": {
     "end_time": "2023-05-26T23:24:38.439341Z",
     "start_time": "2023-05-26T23:24:38.295500Z"
    }
   }
  },
  {
   "cell_type": "code",
   "execution_count": null,
   "outputs": [],
   "source": [],
   "metadata": {
    "collapsed": false
   }
  },
  {
   "cell_type": "code",
   "execution_count": null,
   "outputs": [],
   "source": [],
   "metadata": {
    "collapsed": false
   }
  }
 ],
 "metadata": {
  "kernelspec": {
   "display_name": "Python 3 (ipykernel)",
   "language": "python",
   "name": "python3"
  },
  "language_info": {
   "codemirror_mode": {
    "name": "ipython",
    "version": 3
   },
   "file_extension": ".py",
   "mimetype": "text/x-python",
   "name": "python",
   "nbconvert_exporter": "python",
   "pygments_lexer": "ipython3",
   "version": "3.10.11"
  }
 },
 "nbformat": 4,
 "nbformat_minor": 5
}
